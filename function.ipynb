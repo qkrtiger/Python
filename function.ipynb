{
  "nbformat": 4,
  "nbformat_minor": 0,
  "metadata": {
    "colab": {
      "provenance": [],
      "authorship_tag": "ABX9TyNc3VUI59KrjQdGT9WQaHVZ",
      "include_colab_link": true
    },
    "kernelspec": {
      "name": "python3",
      "display_name": "Python 3"
    },
    "language_info": {
      "name": "python"
    }
  },
  "cells": [
    {
      "cell_type": "markdown",
      "metadata": {
        "id": "view-in-github",
        "colab_type": "text"
      },
      "source": [
        "<a href=\"https://colab.research.google.com/github/qkrtiger/Python/blob/main/function.ipynb\" target=\"_parent\"><img src=\"https://colab.research.google.com/assets/colab-badge.svg\" alt=\"Open In Colab\"/></a>"
      ]
    },
    {
      "cell_type": "code",
      "execution_count": 2,
      "metadata": {
        "colab": {
          "base_uri": "https://localhost:8080/"
        },
        "id": "dCPtovCjiMvJ",
        "outputId": "411bfa2f-13d2-4ddb-c76c-b6598d73b979"
      },
      "outputs": [
        {
          "output_type": "stream",
          "name": "stdout",
          "text": [
            "가위, 바위, 보 중에서 선택하세요. >ㅁ]\n",
            "가위, 바위, 보 중에서 선택하세요. >ㄹ\n",
            "가위, 바위, 보 중에서 선택하세요. >보\n",
            "선택한 값은: 보\n"
          ]
        }
      ],
      "source": [
        "# 리스트 내의 단어만 선택\n",
        "selected = None\n",
        "while selected not in ['가위','바위','보']:\n",
        "    selected = input('가위, 바위, 보 중에서 선택하세요. > ')\n",
        "print('선택한 값은:', selected)"
      ]
    },
    {
      "cell_type": "code",
      "source": [
        "# 양수만 입력받는 기능 구현\n",
        "n = -1\n",
        "while n <= 0:\n",
        "    n = int(input('합계를 구할 양의 정수를 입력하세요 : '))\n",
        "s = 0\n",
        "for i in range(1, n+1):\n",
        "    s = s + i\n",
        "print('1부터 {}까지의 합은 {}'.format(n,s))"
      ],
      "metadata": {
        "colab": {
          "base_uri": "https://localhost:8080/"
        },
        "id": "fuEmWsUAqZcW",
        "outputId": "79b3bf87-a40e-472b-a1eb-f835886d7154"
      },
      "execution_count": 6,
      "outputs": [
        {
          "output_type": "stream",
          "name": "stdout",
          "text": [
            "합계를 구할 양의 정수를 입력하세요 : -100\n",
            "합계를 구할 양의 정수를 입력하세요 : -1\n",
            "합계를 구할 양의 정수를 입력하세요 : 10\n",
            "1부터 10까지의 합은 55\n"
          ]
        }
      ]
    },
    {
      "cell_type": "code",
      "source": [
        "# break를 사용하여 모음이 나타나면 즉시 반복문을 종료하는 기능\n",
        "st = 'Programming'\n",
        "for ch in st:\n",
        "    if ch in ['a','e','i','o','u']:\n",
        "        break # 모음일 경우 반복문을 종료한다.\n",
        "    print(ch)\n",
        "print('The end')\n",
        "print()\n",
        "print()\n",
        "\n",
        "# continue\n",
        "st = 'Programming'\n",
        "for ch in st:\n",
        "    if ch in ['a','e','i','o','u']:\n",
        "        continue # 모음일 경우 건너뛴다.\n",
        "    print(ch)\n",
        "print('The end')"
      ],
      "metadata": {
        "colab": {
          "base_uri": "https://localhost:8080/"
        },
        "id": "WpsIujD_rkUQ",
        "outputId": "3533d991-9b58-4708-aced-799c8b52bc0c"
      },
      "execution_count": 8,
      "outputs": [
        {
          "output_type": "stream",
          "name": "stdout",
          "text": [
            "P\n",
            "r\n",
            "The end\n",
            "\n",
            "\n",
            "P\n",
            "r\n",
            "g\n",
            "r\n",
            "m\n",
            "m\n",
            "n\n",
            "g\n",
            "The end\n"
          ]
        }
      ]
    },
    {
      "cell_type": "code",
      "source": [
        "# 별표 출력을 위한 함수 정의와 호출\n",
        "def print_star():\n",
        "    print('*********************')\n",
        "\n",
        "print_star()\n",
        "\n",
        "# 별표 출력을 매개변수 n번만큼 반복하는 프로그램\n",
        "def print_star(n):\n",
        "    for _ in range(n):\n",
        "        print('**************')\n",
        "print_star(4)"
      ],
      "metadata": {
        "colab": {
          "base_uri": "https://localhost:8080/"
        },
        "id": "KQ8TRVGMy7Nl",
        "outputId": "f6fa0a8b-4f3b-452d-b35f-e58b219eba5a"
      },
      "execution_count": 11,
      "outputs": [
        {
          "output_type": "stream",
          "name": "stdout",
          "text": [
            "*********************\n",
            "**************\n",
            "**************\n",
            "**************\n",
            "**************\n"
          ]
        }
      ]
    },
    {
      "cell_type": "code",
      "source": [
        "def print_sub(a,b):\n",
        "    print('{}과 {}의 차는 {}입니다.'.format(a,b,a-b))\n",
        "    print(f'{a}과 {b}의 합은 {a+b}입니다.')\n",
        "\n",
        "print_sub(10,20)"
      ],
      "metadata": {
        "colab": {
          "base_uri": "https://localhost:8080/"
        },
        "id": "BYoIeruA_bVD",
        "outputId": "a42b5237-101e-4b34-b8aa-f58b00213a77"
      },
      "execution_count": 14,
      "outputs": [
        {
          "output_type": "stream",
          "name": "stdout",
          "text": [
            "10과 20의 차는 -10입니다.\n",
            "10과 20의 합은 30입니다.\n"
          ]
        }
      ]
    },
    {
      "cell_type": "code",
      "source": [
        "#a의 배수 b개를 구하는 함수\n",
        "def multiples(a, b):\n",
        "    result = []\n",
        "    for i in range(1, b + 1):\n",
        "        result.append(a * i)\n",
        "    return result\n",
        "\n",
        "r1, r2, r3, r4 = multiples(3,4)\n",
        "print(r1,r2,r3,r4)"
      ],
      "metadata": {
        "colab": {
          "base_uri": "https://localhost:8080/"
        },
        "id": "HR0EDHKZDPuR",
        "outputId": "4850d5ed-c39d-4f46-8fdf-ed58f5500d8a"
      },
      "execution_count": 19,
      "outputs": [
        {
          "output_type": "stream",
          "name": "stdout",
          "text": [
            "3 6 9 12\n"
          ]
        }
      ]
    },
    {
      "cell_type": "code",
      "source": [
        "# 전역 변수\n",
        "def print_sum():\n",
        "    res = a + b\n",
        "    print(f'print_sum() 내부: {a}와 {b}의 합은 {res}입니다.')\n",
        "\n",
        "a = 10\n",
        "b = 20\n",
        "print_sum()\n",
        "res = a + b\n",
        "print(f'print_sum() 외부: {a}와 {b}의 합은 {res}입니다.')"
      ],
      "metadata": {
        "colab": {
          "base_uri": "https://localhost:8080/"
        },
        "id": "evI06YiqHaiD",
        "outputId": "50b7cff2-8a9d-431d-e1b6-1e5adf2ddcd5"
      },
      "execution_count": 23,
      "outputs": [
        {
          "output_type": "stream",
          "name": "stdout",
          "text": [
            "print_sum() 내부: 10와 20의 합은 30입니다.\n",
            "print_sum() 외부: 10와 20의 합은 30입니다.\n"
          ]
        }
      ]
    },
    {
      "cell_type": "code",
      "source": [
        "# 함수 외부에서 정의된 값을 함수 내부에서 변경하는 경우\n",
        "def print_sum2():\n",
        "    a = 100\n",
        "    b = 200\n",
        "    result = a + b\n",
        "    print(f'print_sum2() 내부 : {a}와 {b}의 합은 {result}입니다.')\n",
        "\n",
        "a = 10\n",
        "b = 20\n",
        "print_sum2()"
      ],
      "metadata": {
        "colab": {
          "base_uri": "https://localhost:8080/"
        },
        "id": "vcH-OECSNoAK",
        "outputId": "39bf3de8-5243-420d-cfb6-cac76fdb4ba8"
      },
      "execution_count": 24,
      "outputs": [
        {
          "output_type": "stream",
          "name": "stdout",
          "text": [
            "print_sum2() 내부 : 100와 200의 합은 300입니다.\n"
          ]
        }
      ]
    },
    {
      "cell_type": "code",
      "source": [
        "# global 키워드를 사용한 전역변수의 참조\n",
        "\n",
        "def print_sum():\n",
        "    global a, b # a,b는 함수 외부에서 선언된 a, b를 사용한다.\n",
        "    a = 100\n",
        "    b = 200\n",
        "    result = a + b\n",
        "    print(f'print_sum() 내부 : {a}와 {b}의 합은 {result}입니다.')\n",
        "\n",
        "a = 10\n",
        "b = 20\n",
        "print_sum()\n",
        "result = a + b\n",
        "print(f'print_sum() 외부 : {a}와 {b}의 합은 {result}입니다.')\n"
      ],
      "metadata": {
        "colab": {
          "base_uri": "https://localhost:8080/"
        },
        "id": "L9FT9GaTQ2la",
        "outputId": "d1eec923-e9cb-488b-a4ce-071b9b2dcd82"
      },
      "execution_count": 25,
      "outputs": [
        {
          "output_type": "stream",
          "name": "stdout",
          "text": [
            "print_sum() 내부 : 100와 200의 합은 300입니다.\n",
            "print_sum() 외부 : 100와 200의 합은 300입니다.\n"
          ]
        }
      ]
    }
  ]
}