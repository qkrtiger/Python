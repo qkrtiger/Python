{
  "nbformat": 4,
  "nbformat_minor": 0,
  "metadata": {
    "colab": {
      "provenance": [],
      "authorship_tag": "ABX9TyNHdkTF8PYo+vnvo1Jie3Qh",
      "include_colab_link": true
    },
    "kernelspec": {
      "name": "python3",
      "display_name": "Python 3"
    },
    "language_info": {
      "name": "python"
    }
  },
  "cells": [
    {
      "cell_type": "markdown",
      "metadata": {
        "id": "view-in-github",
        "colab_type": "text"
      },
      "source": [
        "<a href=\"https://colab.research.google.com/github/qkrtiger/Python/blob/main/python03.ipynb\" target=\"_parent\"><img src=\"https://colab.research.google.com/assets/colab-badge.svg\" alt=\"Open In Colab\"/></a>"
      ]
    },
    {
      "cell_type": "code",
      "execution_count": null,
      "metadata": {
        "colab": {
          "base_uri": "https://localhost:8080/"
        },
        "id": "L2ECEpkbcOQO",
        "outputId": "54c77058-30b8-4298-937c-d1b7c84001a7"
      },
      "outputs": [
        {
          "output_type": "stream",
          "name": "stdout",
          "text": [
            "게임점수를 입력하세요800\n",
            "입문자입니다.\n"
          ]
        }
      ],
      "source": [
        "game_score = int(input('게임점수를 입력하세요'))\n",
        "\n",
        "if game_score >= 1000:\n",
        "    print('고수입니다.')\n",
        "else:\n",
        "    print('입문자입니다.')"
      ]
    },
    {
      "cell_type": "code",
      "source": [
        "a = 0\n",
        "b = 0\n",
        "print(a == b)\n",
        "print(a is b)"
      ],
      "metadata": {
        "colab": {
          "base_uri": "https://localhost:8080/"
        },
        "id": "tIMUh3qzesbZ",
        "outputId": "d1d597bf-1404-4c0f-f720-308de52818f1"
      },
      "execution_count": null,
      "outputs": [
        {
          "output_type": "stream",
          "name": "stdout",
          "text": [
            "True\n",
            "True\n"
          ]
        }
      ]
    },
    {
      "cell_type": "code",
      "source": [
        "num = 2\n",
        "if num >= 1 and num <= 10:\n",
        "    print(True)"
      ],
      "metadata": {
        "colab": {
          "base_uri": "https://localhost:8080/"
        },
        "id": "viR52r3yhkWk",
        "outputId": "0031e91c-c8a9-4b21-d56c-dd8310a9aff3"
      },
      "execution_count": null,
      "outputs": [
        {
          "output_type": "stream",
          "name": "stdout",
          "text": [
            "True\n"
          ]
        }
      ]
    },
    {
      "cell_type": "code",
      "source": [
        "score = int(input('점수를 입력하세요 :'))\n",
        "if score >= 90:\n",
        "    grade = 'A'\n",
        "elif score >= 80:\n",
        "    grade = 'B'\n",
        "elif score >= 70:\n",
        "    grade = 'C'\n",
        "elif score >= 60:\n",
        "    grade = 'D'\n",
        "else:\n",
        "    grade = 'F'\n",
        "print('당신의 등급은 :', grade)"
      ],
      "metadata": {
        "colab": {
          "base_uri": "https://localhost:8080/"
        },
        "id": "xASZ5q5eijlI",
        "outputId": "7ae89974-2397-4b7f-818f-1de7b03d6a56"
      },
      "execution_count": 15,
      "outputs": [
        {
          "output_type": "stream",
          "name": "stdout",
          "text": [
            "점수를 입력하세요 :88\n",
            "당신의 등급은 : B\n"
          ]
        }
      ]
    },
    {
      "cell_type": "code",
      "source": [
        "speed = int(input('자동차의 속도를 입력하세요(단위 : km/h) : '))\n",
        "if speed >= 100 :\n",
        "    print('고속')\n",
        "elif speed >= 60:\n",
        "    print('중속')\n",
        "elif speed < 60 :\n",
        "    print('저속')"
      ],
      "metadata": {
        "colab": {
          "base_uri": "https://localhost:8080/"
        },
        "id": "05Ko4EeBp2Dm",
        "outputId": "39f66ad9-5e03-46de-d54a-715ab1df4336"
      },
      "execution_count": 18,
      "outputs": [
        {
          "output_type": "stream",
          "name": "stdout",
          "text": [
            "자동차의 속도를 입력하세요(단위 : km/h) : 130\n",
            "고속\n"
          ]
        }
      ]
    },
    {
      "cell_type": "code",
      "source": [
        "# 루프 제어변수의 익명화\n",
        "for _ in range(10):\n",
        "    print('Welcome to everyone!!!!')"
      ],
      "metadata": {
        "colab": {
          "base_uri": "https://localhost:8080/"
        },
        "id": "-L--fZBZss6a",
        "outputId": "36de26cd-a24c-44a3-beea-4af3839ff783"
      },
      "execution_count": 19,
      "outputs": [
        {
          "output_type": "stream",
          "name": "stdout",
          "text": [
            "Welcome to everyone!!!!\n",
            "Welcome to everyone!!!!\n",
            "Welcome to everyone!!!!\n",
            "Welcome to everyone!!!!\n",
            "Welcome to everyone!!!!\n",
            "Welcome to everyone!!!!\n",
            "Welcome to everyone!!!!\n",
            "Welcome to everyone!!!!\n",
            "Welcome to everyone!!!!\n",
            "Welcome to everyone!!!!\n"
          ]
        }
      ]
    },
    {
      "cell_type": "code",
      "source": [
        "# 리스트로 출력\n",
        "print(list(range(100)))\n",
        "\n",
        "# 1 이상 100 이하의 짝수 리스트\n",
        "print(list(range(2, 101, 2)))\n",
        "\n",
        "# 1 이상 100 이하의 홀수 리스트\n",
        "print(list(range(1, 101, 2)))"
      ],
      "metadata": {
        "colab": {
          "base_uri": "https://localhost:8080/"
        },
        "id": "F9ehxu9VwitB",
        "outputId": "f438dc5c-0d99-458b-eb07-9cd79621b6aa"
      },
      "execution_count": 25,
      "outputs": [
        {
          "output_type": "stream",
          "name": "stdout",
          "text": [
            "[0, 1, 2, 3, 4, 5, 6, 7, 8, 9, 10, 11, 12, 13, 14, 15, 16, 17, 18, 19, 20, 21, 22, 23, 24, 25, 26, 27, 28, 29, 30, 31, 32, 33, 34, 35, 36, 37, 38, 39, 40, 41, 42, 43, 44, 45, 46, 47, 48, 49, 50, 51, 52, 53, 54, 55, 56, 57, 58, 59, 60, 61, 62, 63, 64, 65, 66, 67, 68, 69, 70, 71, 72, 73, 74, 75, 76, 77, 78, 79, 80, 81, 82, 83, 84, 85, 86, 87, 88, 89, 90, 91, 92, 93, 94, 95, 96, 97, 98, 99]\n",
            "[2, 4, 6, 8, 10, 12, 14, 16, 18, 20, 22, 24, 26, 28, 30, 32, 34, 36, 38, 40, 42, 44, 46, 48, 50, 52, 54, 56, 58, 60, 62, 64, 66, 68, 70, 72, 74, 76, 78, 80, 82, 84, 86, 88, 90, 92, 94, 96, 98, 100]\n",
            "[1, 3, 5, 7, 9, 11, 13, 15, 17, 19, 21, 23, 25, 27, 29, 31, 33, 35, 37, 39, 41, 43, 45, 47, 49, 51, 53, 55, 57, 59, 61, 63, 65, 67, 69, 71, 73, 75, 77, 79, 81, 83, 85, 87, 89, 91, 93, 95, 97, 99]\n"
          ]
        }
      ]
    },
    {
      "cell_type": "code",
      "source": [
        "# for문에서 end 인자 사용방법\n",
        "for i in range(5):\n",
        "    print(i, end = ' ')\n",
        "print()\n",
        "for i in range(5):\n",
        "    print(i, end = ' ')"
      ],
      "metadata": {
        "colab": {
          "base_uri": "https://localhost:8080/"
        },
        "id": "d-4vYpot1YeL",
        "outputId": "794dea1c-704e-4306-8a95-1ba830192100"
      },
      "execution_count": 28,
      "outputs": [
        {
          "output_type": "stream",
          "name": "stdout",
          "text": [
            "0 1 2 3 4 \n",
            "0 1 2 3 4 "
          ]
        }
      ]
    },
    {
      "cell_type": "code",
      "source": [
        "s = 0\n",
        "for i in range(1, 11):\n",
        "    s = s + i\n",
        "print('1에서 10까지의 합:', s)"
      ],
      "metadata": {
        "colab": {
          "base_uri": "https://localhost:8080/"
        },
        "id": "EKluYNQo3oKf",
        "outputId": "a5de418e-dfcd-4e89-a446-14b5f0a78243"
      },
      "execution_count": 29,
      "outputs": [
        {
          "output_type": "stream",
          "name": "stdout",
          "text": [
            "1에서 10까지의 합: 55\n"
          ]
        }
      ]
    },
    {
      "cell_type": "code",
      "source": [
        "# 누적 덧셈의 중간 결과 출력하기\n",
        "s = 0\n",
        "for i in range(1,11):\n",
        "    s = s + i\n",
        "    print('i = {}, s = {}'.format(i,s))\n",
        "print('1에서 10까지의 합:', s)"
      ],
      "metadata": {
        "colab": {
          "base_uri": "https://localhost:8080/"
        },
        "id": "IiTdsTQA6Mk1",
        "outputId": "f06b8e60-85cc-4433-eb01-8d139d8d3afd"
      },
      "execution_count": 30,
      "outputs": [
        {
          "output_type": "stream",
          "name": "stdout",
          "text": [
            "i = 1, s = 1\n",
            "i = 2, s = 3\n",
            "i = 3, s = 6\n",
            "i = 4, s = 10\n",
            "i = 5, s = 15\n",
            "i = 6, s = 21\n",
            "i = 7, s = 28\n",
            "i = 8, s = 36\n",
            "i = 9, s = 45\n",
            "i = 10, s = 55\n",
            "1에서 10까지의 합: 55\n"
          ]
        }
      ]
    },
    {
      "cell_type": "code",
      "source": [
        "n = int(input('합계를 구할 수를 입력하세요 : '))\n",
        "s = 0\n",
        "for i in range(0, n):\n",
        "    s = s + (i+1)\n",
        "print('1에서 {}까지의 합은 : {}'.format(n,s))"
      ],
      "metadata": {
        "colab": {
          "base_uri": "https://localhost:8080/"
        },
        "id": "heFSEwSl61fr",
        "outputId": "15f09855-2554-4148-ae8b-c43e3a47ba09"
      },
      "execution_count": 32,
      "outputs": [
        {
          "output_type": "stream",
          "name": "stdout",
          "text": [
            "합계를 구할 수를 입력하세요 : 100\n",
            "1에서 100까지의 합은 : 5050\n"
          ]
        }
      ]
    },
    {
      "cell_type": "code",
      "source": [
        "fruits = ['사과', '바나나', '오렌지']\n",
        "for fruit in fruits:\n",
        "    print(fruit)\n",
        "\n",
        "# join 방식으로 출력\n",
        "print()\n",
        "print(', '.join(fruits))"
      ],
      "metadata": {
        "id": "CFmJWf-d9Kqk"
      },
      "execution_count": null,
      "outputs": []
    },
    {
      "cell_type": "code",
      "source": [
        "# 이중 for루프를 사용한 패턴 생성하기\n",
        "n = 7\n",
        "for i in range(n):\n",
        "    st = ''\n",
        "    for j in range(i):\n",
        "        st = st + ' '\n",
        "    print(st + '#')\n",
        "\n",
        "# for 루프와 *를 사용한 패턴 생성하기\n",
        "n = 7\n",
        "for i in range(n):\n",
        "    print(' '* i + '#')"
      ],
      "metadata": {
        "colab": {
          "base_uri": "https://localhost:8080/"
        },
        "id": "H3mITFh9E670",
        "outputId": "68539720-4033-4fca-ba20-8ba7ba1e5bf5"
      },
      "execution_count": 42,
      "outputs": [
        {
          "output_type": "stream",
          "name": "stdout",
          "text": [
            "#\n",
            " #\n",
            "  #\n",
            "   #\n",
            "    #\n",
            "     #\n",
            "      #\n",
            "#\n",
            " #\n",
            "  #\n",
            "   #\n",
            "    #\n",
            "     #\n",
            "      #\n"
          ]
        }
      ]
    }
  ]
}