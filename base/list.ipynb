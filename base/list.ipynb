{
  "nbformat": 4,
  "nbformat_minor": 0,
  "metadata": {
    "colab": {
      "provenance": [],
      "authorship_tag": "ABX9TyNu8bc19r0ouLttID7RYsYu",
      "include_colab_link": true
    },
    "kernelspec": {
      "name": "python3",
      "display_name": "Python 3"
    },
    "language_info": {
      "name": "python"
    }
  },
  "cells": [
    {
      "cell_type": "markdown",
      "metadata": {
        "id": "view-in-github",
        "colab_type": "text"
      },
      "source": [
        "<a href=\"https://colab.research.google.com/github/qkrtiger/Python/blob/main/list.ipynb\" target=\"_parent\"><img src=\"https://colab.research.google.com/assets/colab-badge.svg\" alt=\"Open In Colab\"/></a>"
      ]
    },
    {
      "cell_type": "code",
      "source": [
        "# 매개변수 값 지정\n",
        "def print_star(n=1):\n",
        "    for _ in range(n):\n",
        "        print('***************')\n",
        "\n",
        "print_star() # 인자가 없더라도 에러없이 수행됨"
      ],
      "metadata": {
        "colab": {
          "base_uri": "https://localhost:8080/"
        },
        "id": "g97XLLDcBfVk",
        "outputId": "131f50df-70e4-47d6-cbce-765d69c48e3f"
      },
      "execution_count": 4,
      "outputs": [
        {
          "output_type": "stream",
          "name": "stdout",
          "text": [
            "***************\n"
          ]
        }
      ]
    },
    {
      "cell_type": "code",
      "source": [
        "def div(a, b = 2):\n",
        "    return a/b\n",
        "\n",
        "print('div(4) =', div(4))\n",
        "print('div(6,3) =', div(6,3))"
      ],
      "metadata": {
        "colab": {
          "base_uri": "https://localhost:8080/"
        },
        "id": "kv16oci0EKE2",
        "outputId": "8158d732-7ed0-47cc-a29a-1fa99b1a098d"
      },
      "execution_count": 5,
      "outputs": [
        {
          "output_type": "stream",
          "name": "stdout",
          "text": [
            "div(4) = 2.0\n",
            "div(6,3) = 2.0\n"
          ]
        }
      ]
    },
    {
      "cell_type": "code",
      "source": [
        "# 키워드 인자\n",
        "def get_root(a, b, c):\n",
        "    r1 = (-b + (b**2-4*a*c)**0.5)/(2*a)\n",
        "    r2 = (-b - (b**2-4*a*c)**0.5)/(2*a)\n",
        "    return r1, r2\n",
        "\n",
        "# 함수 호출 시 1,2,-8 인자를 사용한다.\n",
        "# result1, result2를 이용해서 결과 값을 반환 받는다.\n",
        "result1, result2 = get_root(1,2,-8)\n",
        "print('해는', result1, '또는', result2)"
      ],
      "metadata": {
        "colab": {
          "base_uri": "https://localhost:8080/"
        },
        "id": "BiV5FIuVF2TQ",
        "outputId": "7de8feb2-de0b-45da-bf7e-c6618ebb125c"
      },
      "execution_count": 6,
      "outputs": [
        {
          "output_type": "stream",
          "name": "stdout",
          "text": [
            "해는 2.0 또는 -4.0\n"
          ]
        }
      ]
    },
    {
      "cell_type": "code",
      "source": [
        "def func(shape, width=1, height=1, radius=1):\n",
        "    if shape == 0:\n",
        "        return width * height\n",
        "    if shape == 1:\n",
        "        return 3.14 * radius ** 2\n",
        "\n",
        "print('rect area=', func(0, width=10, height=2))\n",
        "print('circle area=', func(1, radius=5))"
      ],
      "metadata": {
        "colab": {
          "base_uri": "https://localhost:8080/"
        },
        "id": "Vqzh_oawIFYP",
        "outputId": "40fec930-2b29-4ed7-8307-274e5e27447b"
      },
      "execution_count": 7,
      "outputs": [
        {
          "output_type": "stream",
          "name": "stdout",
          "text": [
            "rect area= 20\n",
            "circle area= 78.5\n"
          ]
        }
      ]
    },
    {
      "cell_type": "code",
      "source": [
        "# 인자를 하나 가지는 함수\n",
        "def greet1(name):\n",
        "    print('안녕하세요',name, '씨')\n",
        "\n",
        "greet1('홍길동')\n",
        "\n",
        "print('-----------------------')\n",
        "# 인자를 2개 가지는 함수\n",
        "def greet2(name1, name2):\n",
        "    print('안녕하세요',name1, '씨')\n",
        "    print('안녕하세요',name2, '씨')\n",
        "\n",
        "greet2('홍길동', '홍길순')\n",
        "\n",
        "print('-----------------------')\n",
        "# 가변 인자를 가지는 함수의 정의와 호출\n",
        "# 별표(*)를 매개변수의 앞에 넣어 사용\n",
        "def greet(*names):\n",
        "    for name in names:\n",
        "        print('안녕하세요', name, '씨')\n",
        "\n",
        "greet('홍길동', '이순신')\n",
        "greet('test')\n",
        "\n",
        "print('-----------------------')\n",
        "# 가변 인자를 가지는 함수를 이용한 합계 구하기\n",
        "def sum_nums(*numbers):\n",
        "    result = 0\n",
        "    for n in numbers:\n",
        "        result += n\n",
        "    return result\n",
        "\n",
        "print(sum_nums(10, 20, 30))"
      ],
      "metadata": {
        "colab": {
          "base_uri": "https://localhost:8080/"
        },
        "id": "E0nX3QoML2TE",
        "outputId": "2d306271-4642-42ee-d381-ee95151984e4"
      },
      "execution_count": 15,
      "outputs": [
        {
          "output_type": "stream",
          "name": "stdout",
          "text": [
            "안녕하세요 홍길동 씨\n",
            "-----------------------\n",
            "안녕하세요 홍길동 씨\n",
            "안녕하세요 홍길순 씨\n",
            "-----------------------\n",
            "안녕하세요 홍길동 씨\n",
            "안녕하세요 이순신 씨\n",
            "안녕하세요 test 씨\n",
            "-----------------------\n",
            "60\n"
          ]
        }
      ]
    },
    {
      "cell_type": "code",
      "source": [
        "def sum_nums(*args):\n",
        "    sum = 0\n",
        "    avg = 0\n",
        "    for n in args:\n",
        "        sum += n\n",
        "    avg = sum/len(args)\n",
        "    return print('합계:', sum, '평균:', avg)\n",
        "\n",
        "sum_nums(10, 20, 30)\n",
        "sum_nums(10, 20, 30, 40, 50)"
      ],
      "metadata": {
        "colab": {
          "base_uri": "https://localhost:8080/"
        },
        "id": "Ibj-7ysAPhsF",
        "outputId": "09073898-77a8-44d8-e940-8fa0ae7af18d"
      },
      "execution_count": 18,
      "outputs": [
        {
          "output_type": "stream",
          "name": "stdout",
          "text": [
            "합계: 60 평균: 20.0\n",
            "합계: 150 평균: 30.0\n"
          ]
        }
      ]
    },
    {
      "cell_type": "code",
      "source": [
        "# 재귀함수\n",
        "def countdown(n):\n",
        "    if n == 0:\n",
        "        print('boom')\n",
        "    else:\n",
        "        print(n)\n",
        "        countdown(n-1)\n",
        "\n",
        "countdown(5)\n",
        "\n",
        "print('--------------------------------------------')\n",
        "\n",
        "# n!의 재귀적 구현\n",
        "def factorial(n):\n",
        "    if n <= 1:\n",
        "        return 1\n",
        "    else:\n",
        "        return n * factorial(n-1)\n",
        "n = 5\n",
        "print(n, '! =', factorial(n))"
      ],
      "metadata": {
        "colab": {
          "base_uri": "https://localhost:8080/"
        },
        "id": "3BUxaz_dVEh1",
        "outputId": "2ea05999-cb3a-475b-e833-3175237efdfe"
      },
      "execution_count": 23,
      "outputs": [
        {
          "output_type": "stream",
          "name": "stdout",
          "text": [
            "5\n",
            "4\n",
            "3\n",
            "2\n",
            "1\n",
            "boom\n",
            "--------------------------------------------\n",
            "5 ! = 120\n"
          ]
        }
      ]
    },
    {
      "cell_type": "code",
      "source": [
        "# 쉼표 구분자를 이용한 input() 함수 실습\n",
        "num1, num2, num3 = input('세 정수를 ,로 구분하여 입력하세요 : ').split(',')\n",
        "num1, num2, num3 = int(num1), int(num2), int(num3)\n",
        "num1, num2, num3"
      ],
      "metadata": {
        "colab": {
          "base_uri": "https://localhost:8080/"
        },
        "id": "bvFIOOpYbMyS",
        "outputId": "3f49d101-4a52-4caa-b382-89af75d5baf9"
      },
      "execution_count": 26,
      "outputs": [
        {
          "name": "stdout",
          "output_type": "stream",
          "text": [
            "세 정수를 ,로 구분하여 입력하세요 : 10, 20, 30\n"
          ]
        }
      ]
    },
    {
      "cell_type": "code",
      "source": [
        "# 문자열\n",
        "name = 'YoungCoder'\n",
        "string = f'Congo,{name}'\n",
        "print(string)"
      ],
      "metadata": {
        "colab": {
          "base_uri": "https://localhost:8080/"
        },
        "id": "WLEAuT0ie4WP",
        "outputId": "1cd7ecc4-d798-4117-b8f1-8bfe37608d4b"
      },
      "execution_count": 28,
      "outputs": [
        {
          "output_type": "stream",
          "name": "stdout",
          "text": [
            "Congo,YoungCoder\n"
          ]
        }
      ]
    },
    {
      "cell_type": "code",
      "source": [
        "# 고급 format() 메소드\n",
        "for i in range(2, 15, 2):\n",
        "    print('{0:3d} {1:4d} {2:10d}'.format(i, i*i, i*i*i))\n",
        "\n",
        "print('-----------------------------------------')\n",
        "# 1,000단위 쉼표 출력\n",
        "print('{:,}'.format(1234567890))"
      ],
      "metadata": {
        "colab": {
          "base_uri": "https://localhost:8080/"
        },
        "id": "fYo-ieQrg990",
        "outputId": "9b7047b6-f596-4dd9-80e3-dc0cf90db013"
      },
      "execution_count": 36,
      "outputs": [
        {
          "output_type": "stream",
          "name": "stdout",
          "text": [
            "  2    4          8\n",
            "  4   16         64\n",
            "  6   36        216\n",
            "  8   64        512\n",
            " 10  100       1000\n",
            " 12  144       1728\n",
            " 14  196       2744\n",
            "-----------------------------------------\n",
            "1,234,567,890\n"
          ]
        }
      ]
    },
    {
      "cell_type": "code",
      "source": [
        "# del 명령어를 통한 리스트의 항목 삭제\n",
        "n_list = [11, 22, 33, 44, 55, 66]\n",
        "print(n_list)\n",
        "\n",
        "# 인덱스번호로 삭제(del 사용)\n",
        "del n_list[3] # 네 번째 항목(44) 삭제\n",
        "print(n_list)\n",
        "\n",
        "# remove로 삭제\n",
        "n_list.remove(22)\n",
        "print(n_list)"
      ],
      "metadata": {
        "colab": {
          "base_uri": "https://localhost:8080/"
        },
        "id": "IOEvDvMOAkBH",
        "outputId": "bf0847a5-bd80-4450-a3a5-f10dea25c73a"
      },
      "execution_count": 40,
      "outputs": [
        {
          "output_type": "stream",
          "name": "stdout",
          "text": [
            "[11, 22, 33, 44, 55, 66]\n",
            "[11, 22, 33, 55, 66]\n",
            "[11, 33, 55, 66]\n"
          ]
        }
      ]
    },
    {
      "cell_type": "code",
      "source": [
        "a_list = [10, 20, 30, 40]\n",
        "print(10 in a_list)\n",
        "print(50 in a_list)\n",
        "print(10 not in a_list)\n",
        "print(50 not in a_list)"
      ],
      "metadata": {
        "colab": {
          "base_uri": "https://localhost:8080/"
        },
        "id": "M4uXg7RTF6Z6",
        "outputId": "f6c8db30-253f-48c7-81df-8ffdb60c41e1"
      },
      "execution_count": 43,
      "outputs": [
        {
          "output_type": "stream",
          "name": "stdout",
          "text": [
            "True\n",
            "False\n",
            "False\n",
            "True\n",
            "aaa\n"
          ]
        }
      ]
    },
    {
      "cell_type": "code",
      "source": [
        "prime_list = []\n",
        "\n",
        "for num in range(1, 11):\n",
        "    if num > 1:  # 1은 소수가 아님\n",
        "        for i in range(2, num):\n",
        "            if num % i == 0:\n",
        "                break\n",
        "        else:\n",
        "            prime_list.append(num)\n",
        "\n",
        "print('소수 목록 : ', prime_list)\n",
        "# 11 추가\n",
        "prime_list.append(11)\n",
        "\n",
        "print('추가 후 소수 목록 : ',prime_list)"
      ],
      "metadata": {
        "colab": {
          "base_uri": "https://localhost:8080/"
        },
        "id": "VC6O_-c3Hi1W",
        "outputId": "71bff4b4-29cf-4f4f-c2fe-9e1d9cf9ae5d"
      },
      "execution_count": 45,
      "outputs": [
        {
          "output_type": "stream",
          "name": "stdout",
          "text": [
            "소수 목록 :  [2, 3, 5, 7]\n",
            "추가 후 소수 목록 :  [2, 3, 5, 7, 11]\n"
          ]
        }
      ]
    },
    {
      "cell_type": "code",
      "source": [
        "nations = ['Korea', 'China', 'Russia', 'Malaysia']\n",
        "print(nations)\n",
        "nations.append('Nepal')\n",
        "print(nations)\n",
        "\n",
        "if 'Japan' not in nations:\n",
        "    print('Japen는(은) 국가 목록에 없습니다.')\n",
        "if 'Russia' not in nations:\n",
        "    print('Russia(은) 국가 목록에 없습니다.')\n"
      ],
      "metadata": {
        "colab": {
          "base_uri": "https://localhost:8080/"
        },
        "id": "Q3UmRlgzI5u_",
        "outputId": "d1bc10c4-fdaf-4330-f140-a5657bbd8ecd"
      },
      "execution_count": 47,
      "outputs": [
        {
          "output_type": "stream",
          "name": "stdout",
          "text": [
            "['Korea', 'China', 'Russia', 'Malaysia']\n",
            "['Korea', 'China', 'Russia', 'Malaysia', 'Nepal']\n",
            "Japen는(은) 국가 목록에 없습니다.\n"
          ]
        }
      ]
    },
    {
      "cell_type": "code",
      "source": [
        "# 리스트\n",
        "list1 = [10, 20, 30, 40, 50]\n",
        "i = 0\n",
        "for n in list1:\n",
        "    list1[i] = n * 10\n",
        "    i = i + 1\n",
        "\n",
        "print(list1)"
      ],
      "metadata": {
        "colab": {
          "base_uri": "https://localhost:8080/"
        },
        "id": "pD051T9-N2EE",
        "outputId": "df93432a-84c0-4d77-beaa-8ab675a0253e"
      },
      "execution_count": 48,
      "outputs": [
        {
          "output_type": "stream",
          "name": "stdout",
          "text": [
            "[100, 200, 300, 400, 500]\n"
          ]
        }
      ]
    },
    {
      "cell_type": "code",
      "source": [
        "# 리스트의 축약 표현\n",
        "list1 = [10, 20, 30, 40, 50]\n",
        "list1 = [n * 10 for n in list1]\n",
        "print(list1)\n",
        "\n",
        "# 리스트 슬라이싱\n",
        "a_list = [10, 20, 30, 40, 50, 60, 70, 80]\n",
        "print(a_list[1:5])"
      ],
      "metadata": {
        "colab": {
          "base_uri": "https://localhost:8080/"
        },
        "id": "rAJP47tcRPsQ",
        "outputId": "9a40776a-a417-42bd-86ee-66c411d4b71a"
      },
      "execution_count": 53,
      "outputs": [
        {
          "output_type": "stream",
          "name": "stdout",
          "text": [
            "[100, 200, 300, 400, 500]\n",
            "[20, 30, 40, 50]\n"
          ]
        }
      ]
    }
  ]
}
