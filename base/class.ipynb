{
  "nbformat": 4,
  "nbformat_minor": 0,
  "metadata": {
    "colab": {
      "provenance": [],
      "authorship_tag": "ABX9TyPBOySlArrDsWgo/TEsTGNz",
      "include_colab_link": true
    },
    "kernelspec": {
      "name": "python3",
      "display_name": "Python 3"
    },
    "language_info": {
      "name": "python"
    }
  },
  "cells": [
    {
      "cell_type": "markdown",
      "metadata": {
        "id": "view-in-github",
        "colab_type": "text"
      },
      "source": [
        "<a href=\"https://colab.research.google.com/github/qkrtiger/Python/blob/main/class.ipynb\" target=\"_parent\"><img src=\"https://colab.research.google.com/assets/colab-badge.svg\" alt=\"Open In Colab\"/></a>"
      ]
    },
    {
      "cell_type": "code",
      "execution_count": 4,
      "metadata": {
        "colab": {
          "base_uri": "https://localhost:8080/"
        },
        "id": "P9xyU1_aQAeX",
        "outputId": "e7951c53-f993-43ca-c6a3-daf7c90106bd"
      },
      "outputs": [
        {
          "output_type": "stream",
          "name": "stdout",
          "text": [
            "두 수를 입력하시오: 50 2\n",
            "50/2 = 25.0\n"
          ]
        }
      ],
      "source": [
        "# try-except 구문을 이용한 예외 처리\n",
        "try:\n",
        "    a, b = input('두 수를 입력하시오: ').split()\n",
        "    result = int(a) / int(b)\n",
        "    print('{}/{} = {}'.format(a, b, result))\n",
        "except:\n",
        "    print('수가 정확한지 확인하세요')"
      ]
    },
    {
      "cell_type": "code",
      "source": [
        "# try-except 문을 사용한 예외 처리와 예외의 종류 출력하기\n",
        "try:\n",
        "    b = 2/0\n",
        "    a = 1 + 'hundred'\n",
        "except Exception as e:\n",
        "    print('error : ', e)\n",
        "\n",
        "# 구체적인 예외처리\n",
        "try:\n",
        "    b = 2/0\n",
        "    a = 1 + 'hundred'\n",
        "except ZeroDivisionError:\n",
        "    print('0으로 나누는 오류')\n",
        "except TypeError:\n",
        "    print('지원되지 않은 연산자를 사용하는 오류')"
      ],
      "metadata": {
        "colab": {
          "base_uri": "https://localhost:8080/"
        },
        "id": "FVkxc0-yej46",
        "outputId": "117eb53c-df08-441f-e6ee-1a7e39c57e9a"
      },
      "execution_count": 6,
      "outputs": [
        {
          "output_type": "stream",
          "name": "stdout",
          "text": [
            "error :  division by zero\n",
            "0으로 나누는 오류\n"
          ]
        }
      ]
    },
    {
      "cell_type": "code",
      "source": [
        "try:\n",
        "    a, b = input('두 수를 입력하시오: ').split()\n",
        "    result = int(a) / int(b)\n",
        "except ZeroDivisionError:\n",
        "    print('오류 : 0으로 나눔을 시도했습니다.')\n",
        "except ValueError:\n",
        "    print('오류 : 입력 값이 정수나 실수가 아닙니다.')\n",
        "except:\n",
        "    print('오류 : 10 2와 같이 두 정수를 입력하세요.')\n",
        "else: # 예외가 발생하지 않은 경우에 실행\n",
        "    print(f'{a} / {b} = {result}')\n",
        "finally:\n",
        "    print('수행완료')\n",
        ""
      ],
      "metadata": {
        "colab": {
          "base_uri": "https://localhost:8080/"
        },
        "id": "LVTUf6HehoXc",
        "outputId": "986ecb8d-1679-415c-febf-cd1338acc7de"
      },
      "execution_count": 10,
      "outputs": [
        {
          "output_type": "stream",
          "name": "stdout",
          "text": [
            "두 수를 입력하시오: 10 20\n",
            "10 / 20 = 0.5\n",
            "수행완료\n"
          ]
        }
      ]
    },
    {
      "cell_type": "code",
      "source": [
        "# 클래스\n",
        "class PersonalInfo:\n",
        "\n",
        "    # Class attribute\n",
        "    nationality = \"Korean\"\n",
        "\n",
        "    #Initalizer, Instance attributes\n",
        "    def __init__(self, name, age):\n",
        "        self.name = name\n",
        "        self.age = age\n",
        "\n",
        "    # Instance method\n",
        "    def getPersonalInfo(self):\n",
        "        print(\"Name:\", self.name)\n",
        "        print(\"Age:\", self.age)\n",
        "\n",
        "    # Instance method\n",
        "    def ageGroup(self):\n",
        "        if self.age < 30:\n",
        "            return 'under 30'\n",
        "        else:\n",
        "            return 'over 30'\n",
        "\n",
        "# create an instance object\n",
        "personal_choi = PersonalInfo(\"CK Chio\", 25)\n",
        "\n",
        "personal_choi.getPersonalInfo()\n",
        "personal_choi.ageGroup()\n",
        ""
      ],
      "metadata": {
        "colab": {
          "base_uri": "https://localhost:8080/",
          "height": 72
        },
        "id": "g5s9YG_uWzCE",
        "outputId": "885f4831-023b-4ea1-c982-5e6acd1694ea"
      },
      "execution_count": 13,
      "outputs": [
        {
          "output_type": "stream",
          "name": "stdout",
          "text": [
            "Name: CK Chio\n",
            "Age: 25\n"
          ]
        },
        {
          "output_type": "execute_result",
          "data": {
            "text/plain": [
              "'under 30'"
            ],
            "application/vnd.google.colaboratory.intrinsic+json": {
              "type": "string"
            }
          },
          "metadata": {},
          "execution_count": 13
        }
      ]
    },
    {
      "cell_type": "code",
      "source": [
        "# Cat 클래스 정의와 meow() 메소드\n",
        "class Cat:\n",
        "    def meow(self):\n",
        "        print('야옹 야옹~~~')\n",
        "\n",
        "nabi = Cat()\n",
        "nabi.meow()"
      ],
      "metadata": {
        "colab": {
          "base_uri": "https://localhost:8080/"
        },
        "id": "iuC13EbbYpFj",
        "outputId": "3bba3154-9380-4fdc-a58c-8ed172c1622c"
      },
      "execution_count": 14,
      "outputs": [
        {
          "output_type": "stream",
          "name": "stdout",
          "text": [
            "야옹 야옹~~~\n"
          ]
        }
      ]
    },
    {
      "cell_type": "code",
      "source": [
        "class Cat:\n",
        "    # 생성자 혹은 초기화 메소드라 한다.\n",
        "    def __init__(self, name, color, age = 0):\n",
        "        self.__name = name # Cat 클래스의 인스턴스 변수를 감추는 역할\n",
        "        self.__color = color\n",
        "        self.__age = age\n",
        "\n",
        "    def __str__(self):\n",
        "        return f'Cat(name = {self.__name}, color = {self.__color}), age = {self.__age}'\n",
        "\n",
        "    # 고양이의 정보를 출력하는 메소드\n",
        "    def meow(self):\n",
        "        print(f'내 이름은 {self.__name}, 색깔은{self.__color}, 나이는 {self.__age} 야옹야옹~~')\n",
        "\n",
        "    # self.__age를 외부에서 자유롭게 접근하는 것을 제한하고 음수가 되지 않도록 함\n",
        "    def set_age(self, age):\n",
        "        if age > 0 :\n",
        "            self.__age = age\n",
        "\n",
        "    def get_age(self):\n",
        "        return self.__age\n",
        "\n",
        "ari = Cat('아리', '하얀색')\n",
        "rang = Cat('랑', '턱시도')\n",
        "\n",
        "ari.meow()\n",
        "rang.meow()\n",
        "print(ari)\n",
        "print(rang)\n",
        "\n",
        "ari.set_age(2)\n",
        "ari.set_age(-3)\n",
        "print(ari) #  -3이 마지막에 입력되었음에도 반영이 안됨"
      ],
      "metadata": {
        "colab": {
          "base_uri": "https://localhost:8080/"
        },
        "id": "PmPigrF0iLA2",
        "outputId": "c14e065f-9ae2-458b-aae8-044369fca238"
      },
      "execution_count": 31,
      "outputs": [
        {
          "output_type": "stream",
          "name": "stdout",
          "text": [
            "내 이름은 아리, 색깔은하얀색, 나이는 0 야옹야옹~~\n",
            "내 이름은 랑, 색깔은턱시도, 나이는 0 야옹야옹~~\n",
            "Cat(name = 아리, color = 하얀색), age = 0\n",
            "Cat(name = 랑, color = 턱시도), age = 0\n",
            "Cat(name = 아리, color = 하얀색), age = 2\n"
          ]
        }
      ]
    },
    {
      "cell_type": "code",
      "source": [
        "# 클래스 A를 상속받는 클래스 B\n",
        "\n",
        "#Emplyee와 Manager의 부모 클래스\n",
        "class Person:\n",
        "    def __init__(self, name):\n",
        "        self.name = name\n",
        "\n",
        "    def get_name(self):\n",
        "        return self.name\n",
        "\n",
        "class Employee(Person): # Person 클래스의 자식 클래스\n",
        "    def __init__(self, name, salary=100):\n",
        "        super().__init__(name) # 부모 클래스 접근에 super() 사용\n",
        "        self.salary = salary\n",
        "\n",
        "    def get_salary(self):\n",
        "        # 부모 클래스 접근에 super() 사용\n",
        "        return f'종업원 : {super().get_name()}, 급여 : {self.salary}'\n",
        "\n",
        "worker1 = Employee('박동윤', 320)\n",
        "\n",
        "print(worker1.get_salary())"
      ],
      "metadata": {
        "colab": {
          "base_uri": "https://localhost:8080/"
        },
        "id": "dpBVdKHs1Omx",
        "outputId": "09559ef9-a063-4aa2-b32b-6a9f6c206207"
      },
      "execution_count": 39,
      "outputs": [
        {
          "output_type": "stream",
          "name": "stdout",
          "text": [
            "종업원 : 박동윤, 급여 : 320\n"
          ]
        }
      ]
    },
    {
      "cell_type": "code",
      "source": [
        "# 필터 함수\n",
        "# filter(적용시킬 함수, {반복 가능 객체})\n",
        "\n",
        "# 19세 이상의 값이 들어오면 True, 그렇지 않으면 False\n",
        "def adult_func(n):\n",
        "    if n >= 19:\n",
        "        return True\n",
        "    else:\n",
        "        return False\n",
        "\n",
        "ages = [34, 39, 20, 18, 13, 54]\n",
        "print('성년 리스트 : ')\n",
        "\n",
        "# filter() 함수를 사용한 ages의 필터링\n",
        "for a in filter(adult_func, ages):\n",
        "    print(a, end = ' ')"
      ],
      "metadata": {
        "colab": {
          "base_uri": "https://localhost:8080/"
        },
        "id": "98e5r8NX9KGe",
        "outputId": "439e09b9-9522-4ced-dd40-d14baacd7206"
      },
      "execution_count": 40,
      "outputs": [
        {
          "output_type": "stream",
          "name": "stdout",
          "text": [
            "성년 리스트 : \n",
            "34 39 20 54 "
          ]
        }
      ]
    },
    {
      "cell_type": "code",
      "source": [
        "# 람다 함수를 이용한 간략화된 필터\n",
        "ages = [34, 39, 20, 18, 13, 54]\n",
        "\n",
        "print('성년 리스트 : ')\n",
        "for a in filter(lambda x: x >= 19, ages):\n",
        "    print(a, end = ' ')"
      ],
      "metadata": {
        "colab": {
          "base_uri": "https://localhost:8080/"
        },
        "id": "rkyUH_VV-ZbX",
        "outputId": "ba797dd2-4423-44df-a7b2-d8da8afb2385"
      },
      "execution_count": 41,
      "outputs": [
        {
          "output_type": "stream",
          "name": "stdout",
          "text": [
            "성년 리스트 : \n",
            "34 39 20 54 "
          ]
        }
      ]
    },
    {
      "cell_type": "code",
      "source": [
        "# 맵 함수와 square() 함수 호출을 이용한 제곱값 리스트 생성\n",
        "# map(적용시킬 함수, 반복 가능 객체, ....)\n",
        "def square(x):\n",
        "    return x ** 2\n",
        "\n",
        "a = [1,2,3,4,5,6,7]\n",
        "square_a = list(map(square, a))\n",
        "\n",
        "print(square_a)"
      ],
      "metadata": {
        "colab": {
          "base_uri": "https://localhost:8080/"
        },
        "id": "gxfpXQQe_xt6",
        "outputId": "4f2ed90d-acfb-4112-a414-1da8f650a413"
      },
      "execution_count": 42,
      "outputs": [
        {
          "output_type": "stream",
          "name": "stdout",
          "text": [
            "[1, 4, 9, 16, 25, 36, 49]\n"
          ]
        }
      ]
    }
  ]
}
